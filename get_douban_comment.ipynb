{
 "cells": [
  {
   "cell_type": "code",
   "execution_count": 1,
   "metadata": {},
   "outputs": [],
   "source": [
    "movie_id = 26773744"
   ]
  },
  {
   "cell_type": "code",
   "execution_count": 2,
   "metadata": {},
   "outputs": [],
   "source": [
    "def get_movie_url(movie_id):\n",
    "    return \"https://movie.douban.com/subject/{}/\".format(movie_id)"
   ]
  },
  {
   "cell_type": "code",
   "execution_count": 3,
   "metadata": {},
   "outputs": [],
   "source": [
    "movie_url = get_movie_url(movie_id)"
   ]
  },
  {
   "cell_type": "code",
   "execution_count": 4,
   "metadata": {},
   "outputs": [],
   "source": [
    "from bs4 import BeautifulSoup "
   ]
  },
  {
   "cell_type": "code",
   "execution_count": 5,
   "metadata": {},
   "outputs": [],
   "source": [
    "from urllib import request"
   ]
  },
  {
   "cell_type": "code",
   "execution_count": 6,
   "metadata": {},
   "outputs": [],
   "source": [
    "def get_soup(url):\n",
    "    res = request.urlopen(url)\n",
    "    html = res.read().decode('utf-8')\n",
    "    return BeautifulSoup(html,'html.parser')"
   ]
  },
  {
   "cell_type": "code",
   "execution_count": 7,
   "metadata": {},
   "outputs": [],
   "source": [
    "movie_soup = get_soup(movie_url)"
   ]
  },
  {
   "cell_type": "code",
   "execution_count": 8,
   "metadata": {},
   "outputs": [],
   "source": [
    "def get_movie_info(soup):\n",
    "    movie_name = soup.find('span', {'property': 'v:itemreviewed'}).get_text()\n",
    "    year = soup.find('span', {'class': 'year'}).get_text().replace('(','').replace(')','')\n",
    "    return movie_name,year"
   ]
  },
  {
   "cell_type": "code",
   "execution_count": 9,
   "metadata": {},
   "outputs": [],
   "source": [
    "movie_info = get_movie_info(movie_soup)"
   ]
  },
  {
   "cell_type": "code",
   "execution_count": 10,
   "metadata": {},
   "outputs": [
    {
     "data": {
      "text/plain": [
       "('相爱相亲', '2017')"
      ]
     },
     "execution_count": 10,
     "metadata": {},
     "output_type": "execute_result"
    }
   ],
   "source": [
    "movie_info"
   ]
  },
  {
   "cell_type": "code",
   "execution_count": 11,
   "metadata": {},
   "outputs": [],
   "source": [
    "def get_comment_url(movie_id):\n",
    "    return \"https://movie.douban.com/subject/{}/comments\".format(movie_id)"
   ]
  },
  {
   "cell_type": "code",
   "execution_count": 12,
   "metadata": {},
   "outputs": [],
   "source": [
    "comment_url = get_comment_url(movie_id)"
   ]
  },
  {
   "cell_type": "code",
   "execution_count": 13,
   "metadata": {},
   "outputs": [
    {
     "data": {
      "text/plain": [
       "'https://movie.douban.com/subject/26773744/comments'"
      ]
     },
     "execution_count": 13,
     "metadata": {},
     "output_type": "execute_result"
    }
   ],
   "source": [
    "comment_url"
   ]
  },
  {
   "cell_type": "code",
   "execution_count": 14,
   "metadata": {},
   "outputs": [],
   "source": [
    "comment_soup = get_soup(comment_url)"
   ]
  },
  {
   "cell_type": "code",
   "execution_count": 15,
   "metadata": {},
   "outputs": [],
   "source": [
    "import re"
   ]
  },
  {
   "cell_type": "code",
   "execution_count": 16,
   "metadata": {},
   "outputs": [],
   "source": [
    "def get_movie_comments(comment_soup):\n",
    "    comment = []\n",
    "    for c in comment_soup.find_all('div', {'class': 'comment'}):\n",
    "        try:\n",
    "            content = c.find_all('p')[-1].text.strip()\n",
    "            star = c.find('span', {'class': re.compile('^allstar')})['class'][0][-2]\n",
    "            comment.append([content,star])\n",
    "        except TypeError as e:\n",
    "            print(e)\n",
    "            continue\n",
    "    return comment  "
   ]
  },
  {
   "cell_type": "code",
   "execution_count": 17,
   "metadata": {},
   "outputs": [],
   "source": [
    "movie_comment = get_movie_comments(comment_soup)"
   ]
  },
  {
   "cell_type": "code",
   "execution_count": 18,
   "metadata": {},
   "outputs": [
    {
     "data": {
      "text/plain": [
       "[['姥姥等外公等了一辈子，她把牌坊立在了心里，用黯淡的一生刻下曾氏二字；慧英等孝平等了几年，她把婚姻藏进了算计，用不安的半生提防外敌入侵；薇薇对阿达说我不等你，她把自由包裹住爱情，用易逝的青春拴住对方脚步。多少女人在爱情面前自动缴械，束手就擒，甘心做岁月的俘虏，梦里都是他年轻的样子。',\n",
       "  '4'],\n",
       " ['我不要你了。我不会等你的。不许王太太坐。张艾嘉的台词，细节和情感，是近年来大银幕中最具中国式的说话方式和情绪把控。最有趣的当属讽刺媒体、办证繁琐、三代女性对家庭、爱情、夫妻关系的层面描写，又好气又好笑，然而这就是我们的生活啊！#吴彦姝的表演真的太催泪！#',\n",
       "  '4'],\n",
       " ['片尾车里那段田壮壮和张艾嘉贡献了近几年来华语电影最精彩的夫妻对话。', '5'],\n",
       " ['张姐竟在河南拍了一部这样写实的电影，很久没看到如此丰富细腻的文本了：城市化进程中的情感归属，情与理的纷争，三代人的不同爱情观念，向死而生的生命豁达，家长里短的吵架拌嘴，婚姻关系，办证制度，媒体嘴脸…每对人物关系都耐人寻味，每位主演都很出彩。《306090》的女人故事，浓浓人情味。',\n",
       "  '5'],\n",
       " ['我们为爱还在学。被爱，是这个时代赋予每个个人最伟大最实际的梦想。似乎被爱的人才是幸福的人。但离爱最近的时候，是选择去爱别人。', '5'],\n",
       " ['张艾嘉竟然拍了部自己的《一一》，探讨三代人的情感矛盾，情绪把控并没有被戏剧性的情节乱了分寸，反而有种力透纸背的细腻真实。张艾嘉的角色拿捏最精准，没人能逃过抛物线的人生，重要的是得学会如何在困境中自处。结尾新车那场戏可以说是年度最催泪场景，“现在车有了，歌也有了，你倒没兴致了。”',\n",
       "  '4'],\n",
       " ['极喜欢这部电影，情绪饱满而不尴尬，音乐温柔且没有目的性。泪点是合理的、有情绪的积累的、层层递进的，到最后的时候我几乎无法自抑的捂住脸哭出声来。电影让人联想到《20 30 40》。不管是什么样子的女性，都可以在其中找到自己。残忍而天真，温柔且执拗。',\n",
       "  '5'],\n",
       " ['有让人遗憾的地方，也有特别突出的地方，就好像田壮壮不露声色的表演，实在太厉害，也完全超越其他几人。张艾嘉有些细节处理得特别好，无论是情节的细节还是情绪的细节。整体上，这样的电影让人不舍得批评，三星半。',\n",
       "  '4'],\n",
       " ['我们终于有了一部地道中国风味的类日本家庭剧情片。【中影太阳新天地】', '5'],\n",
       " ['是我眼瞎了吗？这么个人物动机和大部分细节都经不起推敲的狗血电影居然这么高分？整个片子毫无时代感和地域特征，放到台湾的话导演处理起来可能还更自如一点，生硬地讽刺了内地事务部门的手续繁琐，对电视台的丑化十分想当然。只有最后张艾嘉和田壮壮车里的一场戏是对的。',\n",
       "  '2'],\n",
       " ['张艾嘉不但是中国最被低估的导演，很可能也是在世的最好的中国导演。这部电影通过一个家庭切入中国社会，探讨了三代女性的生存困境和自我抉择，有立场但不露锋芒，有温度但不气焰熏人。很简单的技巧被她用得出神入化。从黄建新之后，很久没有在中国大银幕上看到这样真挚写实的电影了。',\n",
       "  '5'],\n",
       " ['3.5。1.全片最动人时刻：吴彦殊仰头凝望久不曾谋面的丈夫遗照，仿佛凝望面目模糊的陌生人。2.家族三代女人的情感史，如升级版的《20 30 40》。3.张艾嘉演得很真切，困在两代之间的中年处境，宛如杨德昌《一一》中的母亲；田壮壮则演得浑然天成，非常有说服力。4.比较尴尬的是迁坟闹剧和节目录制桥段。',\n",
       "  '3'],\n",
       " ['看到怀疑人生，我实在无法理解一部通篇电视剧技法的狗血情节剧怎么会被追捧成这样，剧本里的一切人物行为动机都是刻意而为的，优秀的导演会利用自身风格来进行掩盖，而不是让问题持续地暴露出来，对比日本类似的家庭生活流电影差距不是一般大，张艾嘉和姥姥的表演痕迹太重，看着尴尬。',\n",
       "  '2'],\n",
       " ['爱的教育，也是张艾嘉娓娓而谈，文艺片架势的“爱的代价”。触动最大的点，并不是什么结尾车内花房姑娘对话，而是火葬场的颅骨，陌生的踮脚仰望，还有照片上被抹去的容颜。不同世代女性对爱与家庭的追求与理解，固然是很好的剧本架构，但始终有设计的痕迹（电视栏目，城市拆迁建设，证明你爸妈是爸妈）',\n",
       "  '3'],\n",
       " ['张艾嘉是个好演员，但真的没有导演才华。想到《如父如子》，都是用一个狗血的设定去抽丝剥茧家庭关系，但功力和是枝裕和一比太露怯了。看得出剧本有打磨过，可生硬之处还是太多了：郎月婷行为逻辑都是不通的，耿乐也很突兀。比田壮壮男配戏份提了金马男主更莫名其妙的是，这片的摄影指导居然是李屏宾？',\n",
       "  '3'],\n",
       " ['什么“迁祖坟”、“大闹电视节目”这些，难道不是八点档的剧场版。是我太挑剔了吗，城里的戏在河南取的景，但姥姥的村子明显不像。每个角色又都那么标签化。结尾也还是照例走大团圆路线。想写实，又不真实，让人感觉很奇怪。而且我不喜欢这种“解决问题”类型的电影。活着这个问题根本是无法解决的。',\n",
       "  '3'],\n",
       " ['本以为会有更煽情的一面，没想到是如此踏实平和温暖的心态与姿态，本可大作文章的一些地方更是用类似轻喜剧的方式轻巧而过，厉害。中国人本应当会拍稀疏平常却又不平凡的情感与故事，但如今这类电影却如此罕见。遗憾的是概念性、符号化的设定与技巧性社会批判用的有点多了，可以再简单、淡然、专注些。',\n",
       "  '4'],\n",
       " ['清苦的时候感情还好一点，现在只能对陌生的脸表达爱…2017华语最佳。', '5'],\n",
       " ['内地城市怎么拍都显得非常中国特色社会主义……谁来拍都一样……可能还是我们太熟悉了拉不开距离吧……', '4'],\n",
       " ['好久没看过这样的国片今年目前最好的华语电影，在大陆港台都合作过的张艾嘉交出的这份作品可以说能贯通到中国人的情感虽然能看出在哪里拍的但城市乡村和三代女性的故事好像都能找到共鸣覆盖面广而精准。郎月婷戏份很讨喜，包括主演客串明星的表演也都很接地气，永远在滑轨的李屏宾的摄影，配乐有设计。',\n",
       "  '4']]"
      ]
     },
     "execution_count": 18,
     "metadata": {},
     "output_type": "execute_result"
    }
   ],
   "source": [
    "movie_comment"
   ]
  },
  {
   "cell_type": "code",
   "execution_count": 19,
   "metadata": {},
   "outputs": [],
   "source": [
    "def get_complete_info(movie_id,movie_info, movie_comment):\n",
    "    movie_name, movie_year= movie_info\n",
    "    return [(movie_id,movie_name, movie_year, c, s) for c, s in movie_comment]"
   ]
  },
  {
   "cell_type": "code",
   "execution_count": 20,
   "metadata": {},
   "outputs": [],
   "source": [
    "complete_info = get_complete_info(movie_id,movie_info, movie_comment)"
   ]
  },
  {
   "cell_type": "code",
   "execution_count": 21,
   "metadata": {},
   "outputs": [
    {
     "data": {
      "text/plain": [
       "[(26773744,\n",
       "  '相爱相亲',\n",
       "  '2017',\n",
       "  '我不要你了。我不会等你的。不许王太太坐。张艾嘉的台词，细节和情感，是近年来大银幕中最具中国式的说话方式和情绪把控。最有趣的当属讽刺媒体、办证繁琐、三代女性对家庭、爱情、夫妻关系的层面描写，又好气又好笑，然而这就是我们的生活啊！#吴彦姝的表演真的太催泪！#',\n",
       "  '4'),\n",
       " (26773744, '相爱相亲', '2017', '片尾车里那段田壮壮和张艾嘉贡献了近几年来华语电影最精彩的夫妻对话。', '5'),\n",
       " (26773744,\n",
       "  '相爱相亲',\n",
       "  '2017',\n",
       "  '张姐竟在河南拍了一部这样写实的电影，很久没看到如此丰富细腻的文本了：城市化进程中的情感归属，情与理的纷争，三代人的不同爱情观念，向死而生的生命豁达，家长里短的吵架拌嘴，婚姻关系，办证制度，媒体嘴脸…每对人物关系都耐人寻味，每位主演都很出彩。《306090》的女人故事，浓浓人情味。',\n",
       "  '5'),\n",
       " (26773744,\n",
       "  '相爱相亲',\n",
       "  '2017',\n",
       "  '我们为爱还在学。被爱，是这个时代赋予每个个人最伟大最实际的梦想。似乎被爱的人才是幸福的人。但离爱最近的时候，是选择去爱别人。',\n",
       "  '5')]"
      ]
     },
     "execution_count": 21,
     "metadata": {},
     "output_type": "execute_result"
    }
   ],
   "source": [
    "complete_info[1:5]"
   ]
  },
  {
   "cell_type": "code",
   "execution_count": 22,
   "metadata": {},
   "outputs": [],
   "source": [
    "import csv"
   ]
  },
  {
   "cell_type": "code",
   "execution_count": 23,
   "metadata": {},
   "outputs": [],
   "source": [
    "def write_the_data(complete_info):\n",
    "    with open('douban_movie_comments.csv','a', newline='') as file:\n",
    "        writer=csv.writer(file)\n",
    "        for entry in complete_info:\n",
    "            writer.writerow(entry)\n",
    "    print(complete_info[1][1],'comments wrote successfully!')"
   ]
  },
  {
   "cell_type": "code",
   "execution_count": 24,
   "metadata": {},
   "outputs": [],
   "source": [
    "def get_recommends_list(movie_soup):\n",
    "    recommends = movie_soup.find('div', {'class': 'recommendations-bd'})\n",
    "    names = [a['alt'] for a in recommends.find_all('img')]\n",
    "    ids = [re.search('subject/(.*)/', a['href']).group(1)\n",
    "             for ii, a in enumerate(recommends.find_all('a'))\n",
    "             if ii % 2 == 0]\n",
    "    return list(ids)"
   ]
  },
  {
   "cell_type": "code",
   "execution_count": 25,
   "metadata": {},
   "outputs": [],
   "source": [
    "recommends_list = get_recommends_list(movie_soup)"
   ]
  },
  {
   "cell_type": "code",
   "execution_count": 26,
   "metadata": {},
   "outputs": [
    {
     "data": {
      "text/plain": [
       "['25980443',\n",
       " '26704590',\n",
       " '2222996',\n",
       " '1291818',\n",
       " '26694988',\n",
       " '1306939',\n",
       " '25895901',\n",
       " '25890005',\n",
       " '10571509',\n",
       " '10537853']"
      ]
     },
     "execution_count": 26,
     "metadata": {},
     "output_type": "execute_result"
    }
   ],
   "source": [
    "recommends_list"
   ]
  },
  {
   "cell_type": "markdown",
   "metadata": {},
   "source": [
    "# get all movies id using BFS"
   ]
  },
  {
   "cell_type": "code",
   "execution_count": 27,
   "metadata": {},
   "outputs": [],
   "source": [
    "import time"
   ]
  },
  {
   "cell_type": "code",
   "execution_count": 28,
   "metadata": {},
   "outputs": [],
   "source": [
    "import random"
   ]
  },
  {
   "cell_type": "code",
   "execution_count": 29,
   "metadata": {},
   "outputs": [],
   "source": [
    "def random_sleep():\n",
    "    random_sleep_time = random.randint(80, 200) / 40\n",
    "    time.sleep(random_sleep_time)"
   ]
  },
  {
   "cell_type": "code",
   "execution_count": 30,
   "metadata": {},
   "outputs": [],
   "source": [
    "import pickle"
   ]
  },
  {
   "cell_type": "code",
   "execution_count": 39,
   "metadata": {},
   "outputs": [],
   "source": [
    "def get_all_movie_id(first_movie_id,num):\n",
    "    visited = set()\n",
    "    unvisited = []\n",
    "    unvisited.append(first_movie_id)\n",
    "    while len(unvisited) > 0:\n",
    "        need_visited = unvisited.pop(0)\n",
    "        random_sleep()\n",
    "        new_add_visited = get_recommends_list(get_soup(get_movie_url(need_visited)))\n",
    "        random_sleep()\n",
    "        for id in new_add_visited:visited.add(id)\n",
    "        unvisited += new_add_visited\n",
    "        if len(visited)== num*10:break\n",
    "    return visited"
   ]
  },
  {
   "cell_type": "code",
   "execution_count": 40,
   "metadata": {},
   "outputs": [],
   "source": [
    "def save_all_movie_id(visited):\n",
    "    with open(\"all_movie_id.txt\", \"wb\") as fp:\n",
    "        pickle.dump(visited, fp)"
   ]
  },
  {
   "cell_type": "code",
   "execution_count": 34,
   "metadata": {},
   "outputs": [],
   "source": [
    "def read_all_movie_id(filename):\n",
    "    with open(filename, \"rb\") as fp:\n",
    "           b = pickle.load(fp)\n",
    "    return b"
   ]
  },
  {
   "cell_type": "code",
   "execution_count": 43,
   "metadata": {},
   "outputs": [],
   "source": [
    "visited = get_all_movie_id(26773744,2)"
   ]
  },
  {
   "cell_type": "code",
   "execution_count": 44,
   "metadata": {},
   "outputs": [
    {
     "data": {
      "text/plain": [
       "{'10537853',\n",
       " '10571509',\n",
       " '1291818',\n",
       " '1294433',\n",
       " '1306939',\n",
       " '20495023',\n",
       " '2222996',\n",
       " '25724855',\n",
       " '25890005',\n",
       " '25895901',\n",
       " '25980443',\n",
       " '26351526',\n",
       " '26588314',\n",
       " '26614893',\n",
       " '26694988',\n",
       " '26704590',\n",
       " '26773744',\n",
       " '4832288',\n",
       " '5964718',\n",
       " '5996409'}"
      ]
     },
     "execution_count": 44,
     "metadata": {},
     "output_type": "execute_result"
    }
   ],
   "source": [
    "visited"
   ]
  },
  {
   "cell_type": "code",
   "execution_count": 36,
   "metadata": {},
   "outputs": [],
   "source": [
    "save_all_movie_id(visited)"
   ]
  },
  {
   "cell_type": "code",
   "execution_count": 37,
   "metadata": {},
   "outputs": [],
   "source": [
    "all_movie_id = read_all_movie_id(\"all_movie_id.txt\")"
   ]
  },
  {
   "cell_type": "code",
   "execution_count": 38,
   "metadata": {},
   "outputs": [
    {
     "data": {
      "text/plain": [
       "20"
      ]
     },
     "execution_count": 38,
     "metadata": {},
     "output_type": "execute_result"
    }
   ],
   "source": [
    "len(all_movie_id)"
   ]
  },
  {
   "cell_type": "code",
   "execution_count": 41,
   "metadata": {},
   "outputs": [],
   "source": [
    "def main(all_movie_id):\n",
    "    with open('douban_movie_comments.csv','a', newline='') as file:\n",
    "        writer=csv.writer(file)\n",
    "        writer.writerow(['id', 'name', 'year', 'comment', 'star'])\n",
    "    for id in all_movie_id:\n",
    "        random_sleep()\n",
    "        url_movie = get_movie_url(id)\n",
    "        random_sleep()\n",
    "        url_comment = get_comment_url(id)\n",
    "        random_sleep()\n",
    "        soup_movie = get_soup(url_movie)\n",
    "        soup_comment = get_soup(url_comment)\n",
    "        movie_info = get_movie_info(soup_movie)\n",
    "        comments = get_movie_comments(soup_comment)\n",
    "        movie_complete_info = get_complete_info(id,movie_info, comments)\n",
    "        write_the_data(movie_complete_info)"
   ]
  },
  {
   "cell_type": "code",
   "execution_count": 42,
   "metadata": {},
   "outputs": [
    {
     "name": "stdout",
     "output_type": "stream",
     "text": [
      "房间 Room comments wrote successfully!\n",
      "如父如子 そして父になる comments wrote successfully!\n",
      "'NoneType' object is not subscriptable\n",
      "推手 comments wrote successfully!\n",
      "相爱相亲 comments wrote successfully!\n"
     ]
    }
   ],
   "source": [
    "if __name__ == '__main__':\n",
    "    main(list(all_movie_id)[1:5])"
   ]
  },
  {
   "cell_type": "code",
   "execution_count": null,
   "metadata": {},
   "outputs": [],
   "source": []
  }
 ],
 "metadata": {
  "kernelspec": {
   "display_name": "Python 3",
   "language": "python",
   "name": "python3"
  },
  "language_info": {
   "codemirror_mode": {
    "name": "ipython",
    "version": 3
   },
   "file_extension": ".py",
   "mimetype": "text/x-python",
   "name": "python",
   "nbconvert_exporter": "python",
   "pygments_lexer": "ipython3",
   "version": "3.6.4"
  }
 },
 "nbformat": 4,
 "nbformat_minor": 2
}
